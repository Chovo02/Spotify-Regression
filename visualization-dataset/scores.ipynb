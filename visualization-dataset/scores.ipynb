{
 "cells": [
  {
   "cell_type": "code",
   "execution_count": 12,
   "metadata": {},
   "outputs": [],
   "source": [
    "import pandas as pd\n",
    "from tabulate import tabulate\n",
    "import plotly.express as px\n",
    "from sklearn.preprocessing import StandardScaler\n",
    "import seaborn as sns\n",
    "from sklearn.model_selection import train_test_split\n",
    "from sklearn.metrics import mean_squared_error, mean_absolute_error, r2_score\n",
    "import optuna\n",
    "import os\n",
    "import dotenv\n",
    "\n",
    "\n",
    "\n",
    "dotenv.load_dotenv()\n",
    "\n",
    "def DataPreProcessing(df):\n",
    "    def tempo_classifier(x):\n",
    "        if x < percentile_33:\n",
    "            return 1\n",
    "        elif x > percentile_33 and x < percentile_66:\n",
    "            return 2\n",
    "        elif x > percentile_66:\n",
    "            return 3\n",
    "    \n",
    "    df.drop_duplicates(subset=['track_id'], keep='first', inplace=True)\n",
    "    df.dropna(inplace=True)\n",
    "    df[\"duration_ms\"] = df[\"duration_ms\"]/60000\n",
    "    df.rename(columns={\"duration_ms\": \"duration_min\"}, inplace=True)\n",
    "    df = df[df[\"tempo\"]>0]\n",
    "    df = df[df[\"time_signature\"]>0]\n",
    "    df = df[df[\"duration_min\"]>0]\n",
    "    df = df[df[\"duration_min\"]<=10]\n",
    "    df = df[df[\"popularity\"]>0]\n",
    "    df = df[df[\"popularity\"]<=100]\n",
    "\n",
    "    percentile_33 = df[\"tempo\"].quantile(0.33)\n",
    "    percentile_66 = df[\"tempo\"].quantile(0.66)\n",
    "\n",
    "    df[\"tempo\"] = df[\"tempo\"].apply(lambda x: tempo_classifier(x))\n",
    "    df.drop([\"mode\", \"key\", \"time_signature\"], axis=1, inplace=True)\n",
    "    return df"
   ]
  },
  {
   "cell_type": "code",
   "execution_count": 17,
   "metadata": {},
   "outputs": [],
   "source": [
    "\n",
    "df = pd.read_csv(\"../data/SpotifySongPolularityAPIExtract.csv\",low_memory=False)\n",
    "df = DataPreProcessing(df)\n",
    "\n",
    "X = df.drop([\"popularity\"], axis=1)\n",
    "y = df[\"popularity\"]\n",
    "\n",
    "X_train, X_test, y_train, y_test = train_test_split(X, y, test_size=0.2, random_state=42)\n",
    "\n"
   ]
  }
 ],
 "metadata": {
  "kernelspec": {
   "display_name": "Python 3",
   "language": "python",
   "name": "python3"
  },
  "language_info": {
   "codemirror_mode": {
    "name": "ipython",
    "version": 3
   },
   "file_extension": ".py",
   "mimetype": "text/x-python",
   "name": "python",
   "nbconvert_exporter": "python",
   "pygments_lexer": "ipython3",
   "version": "3.11.3"
  },
  "orig_nbformat": 4
 },
 "nbformat": 4,
 "nbformat_minor": 2
}
