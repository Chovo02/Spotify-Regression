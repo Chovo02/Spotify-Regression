{
 "cells": [
  {
   "cell_type": "code",
   "execution_count": 5,
   "metadata": {},
   "outputs": [
    {
     "name": "stdout",
     "output_type": "stream",
     "text": [
      "    Linear_Regression Ridge_Regression SGD_Regressor  Linear_SVR\n",
      "MAE          8.381164        14.943837     15.002551   14.984248\n",
      "MSE         339.08526       339.064173    338.790602  336.185725\n",
      "R2          -0.005163          -0.0051     -0.023284   -0.022197\n"
     ]
    }
   ],
   "source": [
    "import pandas as pd\n",
    "from tabulate import tabulate\n",
    "import seaborn as sns\n",
    "from sklearn.model_selection import train_test_split\n",
    "from sklearn.metrics import mean_squared_error, mean_absolute_error, r2_score\n",
    "\n",
    "import sys\n",
    "sys.path.append(\"../ml-model/\")\n",
    "sys.path.append(\"..\")\n",
    "\n",
    "from SpotifyPreProcessing import DataPreProcessing\n",
    "\n",
    "import pickle\n",
    "\n",
    "df = pd.read_csv(\"../data/SpotifySongPolularityAPIExtract.csv\",low_memory=False)\n",
    "df = DataPreProcessing(df)\n",
    "\n",
    "X = df.drop([\"popularity\"], axis=1)\n",
    "y = df[\"popularity\"]\n",
    "\n",
    "X_train, X_test, y_train, y_test = train_test_split(X, y, test_size=0.2, random_state=42)\n",
    "\n",
    "df_no_feat = pd.DataFrame(index=[\"MAE\", \"MSE\", \"R2\"], columns=[\"Linear_Regression\", \"Ridge_Regression\", \"Lasso_Regressor\", \"SGD_Regressor\", \"Linear_SVR\"])\n",
    "\n",
    "for model in [\"Linear_Regression\", \"Ridge_Regression\", \"Lasso_Regressor\", \"SGD_Regressor\", \"Linear_SVR\"]:\n",
    "    for metrics in [\"MAE\", \"MSE\", \"R2\"]:\n",
    "        loaded_model = pickle.load(open(f'../data/{model}_({metrics}).sav', 'rb'))\n",
    "        y_pred = loaded_model.predict(X_test)\n",
    "        if metrics == \"MAE\":\n",
    "            df_no_feat.loc[metrics, model] = mean_absolute_error(y_test, y_pred)\n",
    "        elif metrics == \"MSE\":\n",
    "            df_no_feat.loc[metrics, model] = mean_squared_error(y_test, y_pred)\n",
    "        elif metrics == \"R2\":\n",
    "            df_no_feat.loc[metrics, model] = r2_score(y_test, y_pred)\n",
    "\n",
    "print(tabulate(df_no_feat, headers='keys', tablefmt=\"psql\"))\n",
    "\n",
    "df_feat = pd.DataFrame(index=[\"MAE\", \"MSE\", \"R2\"], columns=[\"Linear_Regression\", \"Ridge_Regression\", \"Lasso_Regressor\", \"SGD_Regressor\", \"Linear_SVR\"])\n",
    "\n",
    "for model in [\"Linear_Regression\", \"Ridge_Regression\", \"Lasso_Regressor\", \"SGD_Regressor\", \"Linear_SVR\"]:\n",
    "    for metrics in [\"MAE\", \"MSE\", \"R2\"]:\n",
    "        loaded_model = pickle.load(open(f'../data/{model}_with_Feat_({metrics}).sav', 'rb'))\n",
    "        y_pred = loaded_model.predict(X_test)\n",
    "        if metrics == \"MAE\":\n",
    "            df_feat.loc[metrics, model] = mean_absolute_error(y_test, y_pred)\n",
    "        elif metrics == \"MSE\":\n",
    "            df_feat.loc[metrics, model] = mean_squared_error(y_test, y_pred)\n",
    "        elif metrics == \"R2\":\n",
    "            df_feat.loc[metrics, model] = r2_score(y_test, y_pred)\n",
    "\n",
    "print(tabulate(df_feat, headers='keys', tablefmt=\"psql\"))"
   ]
  }
 ],
 "metadata": {
  "kernelspec": {
   "display_name": "Python 3",
   "language": "python",
   "name": "python3"
  },
  "language_info": {
   "codemirror_mode": {
    "name": "ipython",
    "version": 3
   },
   "file_extension": ".py",
   "mimetype": "text/x-python",
   "name": "python",
   "nbconvert_exporter": "python",
   "pygments_lexer": "ipython3",
   "version": "3.11.3"
  },
  "orig_nbformat": 4
 },
 "nbformat": 4,
 "nbformat_minor": 2
}
