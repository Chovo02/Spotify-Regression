{
 "cells": [
  {
   "cell_type": "code",
   "execution_count": 2,
   "id": "06bf5a2f-c28e-4a79-a62d-ca6025e218ea",
   "metadata": {
    "collapsed": true,
    "jupyter": {
     "outputs_hidden": true
    }
   },
   "outputs": [
    {
     "name": "stdout",
     "output_type": "stream",
     "text": [
      "Requirement already satisfied: ydata_profiling in /home/naska/miniconda3/lib/python3.9/site-packages (4.2.0)\n",
      "Requirement already satisfied: scipy<1.11,>=1.4.1 in /home/naska/miniconda3/lib/python3.9/site-packages (from ydata_profiling) (1.9.1)\n",
      "Requirement already satisfied: pandas!=1.4.0,<2,>1.1 in /home/naska/miniconda3/lib/python3.9/site-packages (from ydata_profiling) (1.5.3)\n",
      "Requirement already satisfied: matplotlib<4,>=3.2 in /home/naska/miniconda3/lib/python3.9/site-packages (from ydata_profiling) (3.7.1)\n",
      "Requirement already satisfied: pydantic<2,>=1.8.1 in /home/naska/miniconda3/lib/python3.9/site-packages (from ydata_profiling) (1.10.8)\n",
      "Requirement already satisfied: PyYAML<6.1,>=5.0.0 in /home/naska/miniconda3/lib/python3.9/site-packages (from ydata_profiling) (6.0)\n",
      "Requirement already satisfied: jinja2<3.2,>=2.11.1 in /home/naska/miniconda3/lib/python3.9/site-packages (from ydata_profiling) (3.1.2)\n",
      "Requirement already satisfied: visions[type_image_path]==0.7.5 in /home/naska/miniconda3/lib/python3.9/site-packages (from ydata_profiling) (0.7.5)\n",
      "Requirement already satisfied: numpy<1.24,>=1.16.0 in /home/naska/miniconda3/lib/python3.9/site-packages (from ydata_profiling) (1.23.5)\n",
      "Requirement already satisfied: htmlmin==0.1.12 in /home/naska/miniconda3/lib/python3.9/site-packages (from ydata_profiling) (0.1.12)\n",
      "Requirement already satisfied: phik<0.13,>=0.11.1 in /home/naska/miniconda3/lib/python3.9/site-packages (from ydata_profiling) (0.12.3)\n",
      "Requirement already satisfied: requests<3,>=2.24.0 in /home/naska/miniconda3/lib/python3.9/site-packages (from ydata_profiling) (2.31.0)\n",
      "Requirement already satisfied: tqdm<5,>=4.48.2 in /home/naska/miniconda3/lib/python3.9/site-packages (from ydata_profiling) (4.65.0)\n",
      "Requirement already satisfied: seaborn<0.13,>=0.10.1 in /home/naska/miniconda3/lib/python3.9/site-packages (from ydata_profiling) (0.12.2)\n",
      "Requirement already satisfied: multimethod<2,>=1.4 in /home/naska/miniconda3/lib/python3.9/site-packages (from ydata_profiling) (1.9.1)\n",
      "Requirement already satisfied: statsmodels<1,>=0.13.2 in /home/naska/miniconda3/lib/python3.9/site-packages (from ydata_profiling) (0.14.0)\n",
      "Requirement already satisfied: typeguard<3,>=2.13.2 in /home/naska/miniconda3/lib/python3.9/site-packages (from ydata_profiling) (2.13.3)\n",
      "Requirement already satisfied: imagehash==4.3.1 in /home/naska/miniconda3/lib/python3.9/site-packages (from ydata_profiling) (4.3.1)\n",
      "Requirement already satisfied: wordcloud>=1.9.1 in /home/naska/miniconda3/lib/python3.9/site-packages (from ydata_profiling) (1.9.2)\n",
      "Requirement already satisfied: dacite>=1.8 in /home/naska/miniconda3/lib/python3.9/site-packages (from ydata_profiling) (1.8.1)\n",
      "Requirement already satisfied: PyWavelets in /home/naska/miniconda3/lib/python3.9/site-packages (from imagehash==4.3.1->ydata_profiling) (1.4.1)\n",
      "Requirement already satisfied: pillow in /home/naska/miniconda3/lib/python3.9/site-packages (from imagehash==4.3.1->ydata_profiling) (9.4.0)\n",
      "Requirement already satisfied: attrs>=19.3.0 in /home/naska/miniconda3/lib/python3.9/site-packages (from visions[type_image_path]==0.7.5->ydata_profiling) (22.2.0)\n",
      "Requirement already satisfied: networkx>=2.4 in /home/naska/miniconda3/lib/python3.9/site-packages (from visions[type_image_path]==0.7.5->ydata_profiling) (3.0)\n",
      "Requirement already satisfied: tangled-up-in-unicode>=0.0.4 in /home/naska/miniconda3/lib/python3.9/site-packages (from visions[type_image_path]==0.7.5->ydata_profiling) (0.2.0)\n",
      "Requirement already satisfied: MarkupSafe>=2.0 in /home/naska/miniconda3/lib/python3.9/site-packages (from jinja2<3.2,>=2.11.1->ydata_profiling) (2.1.2)\n",
      "Requirement already satisfied: contourpy>=1.0.1 in /home/naska/miniconda3/lib/python3.9/site-packages (from matplotlib<4,>=3.2->ydata_profiling) (1.0.7)\n",
      "Requirement already satisfied: cycler>=0.10 in /home/naska/miniconda3/lib/python3.9/site-packages (from matplotlib<4,>=3.2->ydata_profiling) (0.11.0)\n",
      "Requirement already satisfied: fonttools>=4.22.0 in /home/naska/miniconda3/lib/python3.9/site-packages (from matplotlib<4,>=3.2->ydata_profiling) (4.39.0)\n",
      "Requirement already satisfied: kiwisolver>=1.0.1 in /home/naska/miniconda3/lib/python3.9/site-packages (from matplotlib<4,>=3.2->ydata_profiling) (1.4.4)\n",
      "Requirement already satisfied: packaging>=20.0 in /home/naska/miniconda3/lib/python3.9/site-packages (from matplotlib<4,>=3.2->ydata_profiling) (23.0)\n",
      "Requirement already satisfied: pyparsing>=2.3.1 in /home/naska/miniconda3/lib/python3.9/site-packages (from matplotlib<4,>=3.2->ydata_profiling) (2.4.7)\n",
      "Requirement already satisfied: python-dateutil>=2.7 in /home/naska/miniconda3/lib/python3.9/site-packages (from matplotlib<4,>=3.2->ydata_profiling) (2.8.2)\n",
      "Requirement already satisfied: importlib-resources>=3.2.0 in /home/naska/miniconda3/lib/python3.9/site-packages (from matplotlib<4,>=3.2->ydata_profiling) (5.12.0)\n",
      "Requirement already satisfied: pytz>=2020.1 in /home/naska/miniconda3/lib/python3.9/site-packages (from pandas!=1.4.0,<2,>1.1->ydata_profiling) (2023.3)\n",
      "Requirement already satisfied: joblib>=0.14.1 in /home/naska/miniconda3/lib/python3.9/site-packages (from phik<0.13,>=0.11.1->ydata_profiling) (1.2.0)\n",
      "Requirement already satisfied: typing-extensions>=4.2.0 in /home/naska/miniconda3/lib/python3.9/site-packages (from pydantic<2,>=1.8.1->ydata_profiling) (4.5.0)\n",
      "Requirement already satisfied: charset-normalizer<4,>=2 in /home/naska/miniconda3/lib/python3.9/site-packages (from requests<3,>=2.24.0->ydata_profiling) (2.0.4)\n",
      "Requirement already satisfied: idna<4,>=2.5 in /home/naska/miniconda3/lib/python3.9/site-packages (from requests<3,>=2.24.0->ydata_profiling) (3.4)\n",
      "Requirement already satisfied: urllib3<3,>=1.21.1 in /home/naska/miniconda3/lib/python3.9/site-packages (from requests<3,>=2.24.0->ydata_profiling) (2.0.2)\n",
      "Requirement already satisfied: certifi>=2017.4.17 in /home/naska/miniconda3/lib/python3.9/site-packages (from requests<3,>=2.24.0->ydata_profiling) (2022.12.7)\n",
      "Requirement already satisfied: patsy>=0.5.2 in /home/naska/miniconda3/lib/python3.9/site-packages (from statsmodels<1,>=0.13.2->ydata_profiling) (0.5.3)\n",
      "Requirement already satisfied: zipp>=3.1.0 in /home/naska/miniconda3/lib/python3.9/site-packages (from importlib-resources>=3.2.0->matplotlib<4,>=3.2->ydata_profiling) (3.15.0)\n",
      "Requirement already satisfied: six in /home/naska/miniconda3/lib/python3.9/site-packages (from patsy>=0.5.2->statsmodels<1,>=0.13.2->ydata_profiling) (1.16.0)\n",
      "Collecting ipywidgets\n",
      "  Downloading ipywidgets-8.0.7-py3-none-any.whl (138 kB)\n",
      "\u001b[2K     \u001b[90m━━━━━━━━━━━━━━━━━━━━━━━━━━━━━━━━━━━━━━━\u001b[0m \u001b[32m138.3/138.3 kB\u001b[0m \u001b[31m2.5 MB/s\u001b[0m eta \u001b[36m0:00:00\u001b[0ma \u001b[36m0:00:01\u001b[0m\n",
      "\u001b[?25hRequirement already satisfied: ipykernel>=4.5.1 in /home/naska/miniconda3/lib/python3.9/site-packages (from ipywidgets) (6.23.1)\n",
      "Requirement already satisfied: ipython>=6.1.0 in /home/naska/miniconda3/lib/python3.9/site-packages (from ipywidgets) (8.13.2)\n",
      "Requirement already satisfied: traitlets>=4.3.1 in /home/naska/miniconda3/lib/python3.9/site-packages (from ipywidgets) (5.9.0)\n",
      "Collecting widgetsnbextension~=4.0.7 (from ipywidgets)\n",
      "  Downloading widgetsnbextension-4.0.8-py3-none-any.whl (2.3 MB)\n",
      "\u001b[2K     \u001b[90m━━━━━━━━━━━━━━━━━━━━━━━━━━━━━━━━━━━━━━━━\u001b[0m \u001b[32m2.3/2.3 MB\u001b[0m \u001b[31m3.2 MB/s\u001b[0m eta \u001b[36m0:00:00\u001b[0m00:01\u001b[0m00:01\u001b[0m\n",
      "\u001b[?25hCollecting jupyterlab-widgets~=3.0.7 (from ipywidgets)\n",
      "  Downloading jupyterlab_widgets-3.0.8-py3-none-any.whl (214 kB)\n",
      "\u001b[2K     \u001b[90m━━━━━━━━━━━━━━━━━━━━━━━━━━━━━━━━━━━━━━━\u001b[0m \u001b[32m215.0/215.0 kB\u001b[0m \u001b[31m3.1 MB/s\u001b[0m eta \u001b[36m0:00:00\u001b[0ma \u001b[36m0:00:01\u001b[0m\n",
      "\u001b[?25hRequirement already satisfied: comm>=0.1.1 in /home/naska/miniconda3/lib/python3.9/site-packages (from ipykernel>=4.5.1->ipywidgets) (0.1.3)\n",
      "Requirement already satisfied: debugpy>=1.6.5 in /home/naska/miniconda3/lib/python3.9/site-packages (from ipykernel>=4.5.1->ipywidgets) (1.6.7)\n",
      "Requirement already satisfied: jupyter-client>=6.1.12 in /home/naska/miniconda3/lib/python3.9/site-packages (from ipykernel>=4.5.1->ipywidgets) (8.2.0)\n",
      "Requirement already satisfied: jupyter-core!=5.0.*,>=4.12 in /home/naska/miniconda3/lib/python3.9/site-packages (from ipykernel>=4.5.1->ipywidgets) (5.3.0)\n",
      "Requirement already satisfied: matplotlib-inline>=0.1 in /home/naska/miniconda3/lib/python3.9/site-packages (from ipykernel>=4.5.1->ipywidgets) (0.1.6)\n",
      "Requirement already satisfied: nest-asyncio in /home/naska/miniconda3/lib/python3.9/site-packages (from ipykernel>=4.5.1->ipywidgets) (1.5.6)\n",
      "Requirement already satisfied: packaging in /home/naska/miniconda3/lib/python3.9/site-packages (from ipykernel>=4.5.1->ipywidgets) (23.0)\n",
      "Requirement already satisfied: psutil in /home/naska/miniconda3/lib/python3.9/site-packages (from ipykernel>=4.5.1->ipywidgets) (5.9.5)\n",
      "Requirement already satisfied: pyzmq>=20 in /home/naska/miniconda3/lib/python3.9/site-packages (from ipykernel>=4.5.1->ipywidgets) (25.0.2)\n",
      "Requirement already satisfied: tornado>=6.1 in /home/naska/miniconda3/lib/python3.9/site-packages (from ipykernel>=4.5.1->ipywidgets) (6.3.2)\n",
      "Requirement already satisfied: backcall in /home/naska/miniconda3/lib/python3.9/site-packages (from ipython>=6.1.0->ipywidgets) (0.2.0)\n",
      "Requirement already satisfied: decorator in /home/naska/miniconda3/lib/python3.9/site-packages (from ipython>=6.1.0->ipywidgets) (5.1.1)\n",
      "Requirement already satisfied: jedi>=0.16 in /home/naska/miniconda3/lib/python3.9/site-packages (from ipython>=6.1.0->ipywidgets) (0.18.2)\n",
      "Requirement already satisfied: pickleshare in /home/naska/miniconda3/lib/python3.9/site-packages (from ipython>=6.1.0->ipywidgets) (0.7.5)\n",
      "Requirement already satisfied: prompt-toolkit!=3.0.37,<3.1.0,>=3.0.30 in /home/naska/miniconda3/lib/python3.9/site-packages (from ipython>=6.1.0->ipywidgets) (3.0.38)\n",
      "Requirement already satisfied: pygments>=2.4.0 in /home/naska/miniconda3/lib/python3.9/site-packages (from ipython>=6.1.0->ipywidgets) (2.15.1)\n",
      "Requirement already satisfied: stack-data in /home/naska/miniconda3/lib/python3.9/site-packages (from ipython>=6.1.0->ipywidgets) (0.6.2)\n",
      "Requirement already satisfied: typing-extensions in /home/naska/miniconda3/lib/python3.9/site-packages (from ipython>=6.1.0->ipywidgets) (4.5.0)\n",
      "Requirement already satisfied: pexpect>4.3 in /home/naska/miniconda3/lib/python3.9/site-packages (from ipython>=6.1.0->ipywidgets) (4.8.0)\n",
      "Requirement already satisfied: parso<0.9.0,>=0.8.0 in /home/naska/miniconda3/lib/python3.9/site-packages (from jedi>=0.16->ipython>=6.1.0->ipywidgets) (0.8.3)\n",
      "Requirement already satisfied: importlib-metadata>=4.8.3 in /home/naska/miniconda3/lib/python3.9/site-packages (from jupyter-client>=6.1.12->ipykernel>=4.5.1->ipywidgets) (6.0.0)\n",
      "Requirement already satisfied: python-dateutil>=2.8.2 in /home/naska/miniconda3/lib/python3.9/site-packages (from jupyter-client>=6.1.12->ipykernel>=4.5.1->ipywidgets) (2.8.2)\n",
      "Requirement already satisfied: platformdirs>=2.5 in /home/naska/miniconda3/lib/python3.9/site-packages (from jupyter-core!=5.0.*,>=4.12->ipykernel>=4.5.1->ipywidgets) (3.5.1)\n",
      "Requirement already satisfied: ptyprocess>=0.5 in /home/naska/miniconda3/lib/python3.9/site-packages (from pexpect>4.3->ipython>=6.1.0->ipywidgets) (0.7.0)\n",
      "Requirement already satisfied: wcwidth in /home/naska/miniconda3/lib/python3.9/site-packages (from prompt-toolkit!=3.0.37,<3.1.0,>=3.0.30->ipython>=6.1.0->ipywidgets) (0.2.6)\n",
      "Requirement already satisfied: executing>=1.2.0 in /home/naska/miniconda3/lib/python3.9/site-packages (from stack-data->ipython>=6.1.0->ipywidgets) (1.2.0)\n",
      "Requirement already satisfied: asttokens>=2.1.0 in /home/naska/miniconda3/lib/python3.9/site-packages (from stack-data->ipython>=6.1.0->ipywidgets) (2.2.1)\n",
      "Requirement already satisfied: pure-eval in /home/naska/miniconda3/lib/python3.9/site-packages (from stack-data->ipython>=6.1.0->ipywidgets) (0.2.2)\n",
      "Requirement already satisfied: six in /home/naska/miniconda3/lib/python3.9/site-packages (from asttokens>=2.1.0->stack-data->ipython>=6.1.0->ipywidgets) (1.16.0)\n",
      "Requirement already satisfied: zipp>=0.5 in /home/naska/miniconda3/lib/python3.9/site-packages (from importlib-metadata>=4.8.3->jupyter-client>=6.1.12->ipykernel>=4.5.1->ipywidgets) (3.15.0)\n",
      "Installing collected packages: widgetsnbextension, jupyterlab-widgets, ipywidgets\n",
      "Successfully installed ipywidgets-8.0.7 jupyterlab-widgets-3.0.8 widgetsnbextension-4.0.8\n"
     ]
    }
   ],
   "source": [
    "!pip install ydata_profiling\n",
    "!pip install ipywidgets"
   ]
  },
  {
   "cell_type": "code",
   "execution_count": 1,
   "id": "8e0e1123-2f53-4e2e-beb5-2328589f5bdb",
   "metadata": {},
   "outputs": [],
   "source": [
    "import pandas as pd\n",
    "from ydata_profiling import ProfileReport\n",
    "import plotly.express as px"
   ]
  },
  {
   "cell_type": "code",
   "execution_count": 2,
   "id": "c78e8d66-2f92-4951-bd1b-4ab530b237c4",
   "metadata": {},
   "outputs": [],
   "source": [
    "df = pd.read_csv(\"SpotifySongPolularityAPIExtract.csv\")"
   ]
  },
  {
   "cell_type": "code",
   "execution_count": 3,
   "id": "ba90a1e4-5422-456b-8d48-f0169f9f8ab5",
   "metadata": {
    "collapsed": true,
    "jupyter": {
     "outputs_hidden": true
    },
    "tags": []
   },
   "outputs": [
    {
     "data": {
      "text/html": [
       "<div>\n",
       "<style scoped>\n",
       "    .dataframe tbody tr th:only-of-type {\n",
       "        vertical-align: middle;\n",
       "    }\n",
       "\n",
       "    .dataframe tbody tr th {\n",
       "        vertical-align: top;\n",
       "    }\n",
       "\n",
       "    .dataframe thead th {\n",
       "        text-align: right;\n",
       "    }\n",
       "</style>\n",
       "<table border=\"1\" class=\"dataframe\">\n",
       "  <thead>\n",
       "    <tr style=\"text-align: right;\">\n",
       "      <th></th>\n",
       "      <th>artist_name</th>\n",
       "      <th>track_id</th>\n",
       "      <th>track_name</th>\n",
       "      <th>acousticness</th>\n",
       "      <th>danceability</th>\n",
       "      <th>duration_ms</th>\n",
       "      <th>energy</th>\n",
       "      <th>instrumentalness</th>\n",
       "      <th>key</th>\n",
       "      <th>liveness</th>\n",
       "      <th>loudness</th>\n",
       "      <th>mode</th>\n",
       "      <th>speechiness</th>\n",
       "      <th>tempo</th>\n",
       "      <th>time_signature</th>\n",
       "      <th>valence</th>\n",
       "      <th>popularity</th>\n",
       "    </tr>\n",
       "  </thead>\n",
       "  <tbody>\n",
       "    <tr>\n",
       "      <th>0</th>\n",
       "      <td>YG</td>\n",
       "      <td>2RM4jf1Xa9zPgMGRDiht8O</td>\n",
       "      <td>Big Bank feat. 2 Chainz, Big Sean, Nicki Minaj</td>\n",
       "      <td>0.005820</td>\n",
       "      <td>0.743</td>\n",
       "      <td>238373</td>\n",
       "      <td>0.339</td>\n",
       "      <td>0.000</td>\n",
       "      <td>1</td>\n",
       "      <td>0.0812</td>\n",
       "      <td>-7.678</td>\n",
       "      <td>1</td>\n",
       "      <td>0.4090</td>\n",
       "      <td>203.927</td>\n",
       "      <td>4</td>\n",
       "      <td>0.118</td>\n",
       "      <td>15</td>\n",
       "    </tr>\n",
       "    <tr>\n",
       "      <th>1</th>\n",
       "      <td>YG</td>\n",
       "      <td>1tHDG53xJNGsItRA3vfVgs</td>\n",
       "      <td>BAND DRUM (feat. A$AP Rocky)</td>\n",
       "      <td>0.024400</td>\n",
       "      <td>0.846</td>\n",
       "      <td>214800</td>\n",
       "      <td>0.557</td>\n",
       "      <td>0.000</td>\n",
       "      <td>8</td>\n",
       "      <td>0.2860</td>\n",
       "      <td>-7.259</td>\n",
       "      <td>1</td>\n",
       "      <td>0.4570</td>\n",
       "      <td>159.009</td>\n",
       "      <td>4</td>\n",
       "      <td>0.371</td>\n",
       "      <td>0</td>\n",
       "    </tr>\n",
       "    <tr>\n",
       "      <th>2</th>\n",
       "      <td>R3HAB</td>\n",
       "      <td>6Wosx2euFPMT14UXiWudMy</td>\n",
       "      <td>Radio Silence</td>\n",
       "      <td>0.025000</td>\n",
       "      <td>0.603</td>\n",
       "      <td>138913</td>\n",
       "      <td>0.723</td>\n",
       "      <td>0.000</td>\n",
       "      <td>9</td>\n",
       "      <td>0.0824</td>\n",
       "      <td>-5.890</td>\n",
       "      <td>0</td>\n",
       "      <td>0.0454</td>\n",
       "      <td>114.966</td>\n",
       "      <td>4</td>\n",
       "      <td>0.382</td>\n",
       "      <td>56</td>\n",
       "    </tr>\n",
       "    <tr>\n",
       "      <th>3</th>\n",
       "      <td>Chris Cooq</td>\n",
       "      <td>3J2Jpw61sO7l6Hc7qdYV91</td>\n",
       "      <td>Lactose</td>\n",
       "      <td>0.029400</td>\n",
       "      <td>0.800</td>\n",
       "      <td>125381</td>\n",
       "      <td>0.579</td>\n",
       "      <td>0.912</td>\n",
       "      <td>5</td>\n",
       "      <td>0.0994</td>\n",
       "      <td>-12.118</td>\n",
       "      <td>0</td>\n",
       "      <td>0.0701</td>\n",
       "      <td>123.003</td>\n",
       "      <td>4</td>\n",
       "      <td>0.641</td>\n",
       "      <td>0</td>\n",
       "    </tr>\n",
       "    <tr>\n",
       "      <th>4</th>\n",
       "      <td>Chris Cooq</td>\n",
       "      <td>2jbYvQCyPgX3CdmAzeVeuS</td>\n",
       "      <td>Same - Original mix</td>\n",
       "      <td>0.000035</td>\n",
       "      <td>0.783</td>\n",
       "      <td>124016</td>\n",
       "      <td>0.792</td>\n",
       "      <td>0.878</td>\n",
       "      <td>7</td>\n",
       "      <td>0.0332</td>\n",
       "      <td>-10.277</td>\n",
       "      <td>1</td>\n",
       "      <td>0.0661</td>\n",
       "      <td>120.047</td>\n",
       "      <td>4</td>\n",
       "      <td>0.928</td>\n",
       "      <td>0</td>\n",
       "    </tr>\n",
       "    <tr>\n",
       "      <th>5</th>\n",
       "      <td>Curbo</td>\n",
       "      <td>26Y1lX7ZOpw9Ql3gGAlqLK</td>\n",
       "      <td>Debauchery - Original mix</td>\n",
       "      <td>0.001150</td>\n",
       "      <td>0.810</td>\n",
       "      <td>124016</td>\n",
       "      <td>0.417</td>\n",
       "      <td>0.919</td>\n",
       "      <td>9</td>\n",
       "      <td>0.1060</td>\n",
       "      <td>-10.783</td>\n",
       "      <td>0</td>\n",
       "      <td>0.0793</td>\n",
       "      <td>120.025</td>\n",
       "      <td>4</td>\n",
       "      <td>0.837</td>\n",
       "      <td>0</td>\n",
       "    </tr>\n",
       "    <tr>\n",
       "      <th>6</th>\n",
       "      <td>Bingo Play</td>\n",
       "      <td>5eIyK73BrxHLnly4F9PWqg</td>\n",
       "      <td>Grandma - Original mix</td>\n",
       "      <td>0.000539</td>\n",
       "      <td>0.819</td>\n",
       "      <td>132742</td>\n",
       "      <td>0.720</td>\n",
       "      <td>0.863</td>\n",
       "      <td>4</td>\n",
       "      <td>0.0727</td>\n",
       "      <td>-8.895</td>\n",
       "      <td>0</td>\n",
       "      <td>0.1510</td>\n",
       "      <td>124.003</td>\n",
       "      <td>4</td>\n",
       "      <td>0.934</td>\n",
       "      <td>0</td>\n",
       "    </tr>\n",
       "    <tr>\n",
       "      <th>7</th>\n",
       "      <td>G Herbo</td>\n",
       "      <td>13Mf2ZBpfNkgWJowvM5hXh</td>\n",
       "      <td>Bon appétit</td>\n",
       "      <td>0.115000</td>\n",
       "      <td>0.885</td>\n",
       "      <td>181838</td>\n",
       "      <td>0.348</td>\n",
       "      <td>0.000</td>\n",
       "      <td>9</td>\n",
       "      <td>0.1070</td>\n",
       "      <td>-12.569</td>\n",
       "      <td>1</td>\n",
       "      <td>0.4510</td>\n",
       "      <td>142.111</td>\n",
       "      <td>4</td>\n",
       "      <td>0.180</td>\n",
       "      <td>0</td>\n",
       "    </tr>\n",
       "    <tr>\n",
       "      <th>8</th>\n",
       "      <td>34 Feet</td>\n",
       "      <td>7BQaRTHk44DkMhIVNcXy2D</td>\n",
       "      <td>Among - Original mix</td>\n",
       "      <td>0.000058</td>\n",
       "      <td>0.740</td>\n",
       "      <td>124016</td>\n",
       "      <td>0.472</td>\n",
       "      <td>0.847</td>\n",
       "      <td>8</td>\n",
       "      <td>0.0959</td>\n",
       "      <td>-9.008</td>\n",
       "      <td>1</td>\n",
       "      <td>0.0551</td>\n",
       "      <td>120.034</td>\n",
       "      <td>4</td>\n",
       "      <td>0.622</td>\n",
       "      <td>0</td>\n",
       "    </tr>\n",
       "    <tr>\n",
       "      <th>9</th>\n",
       "      <td>Chris Cooq</td>\n",
       "      <td>049RxG2laEl9U1PGYeIqLV</td>\n",
       "      <td>Hazard - Original mix</td>\n",
       "      <td>0.000081</td>\n",
       "      <td>0.813</td>\n",
       "      <td>132742</td>\n",
       "      <td>0.731</td>\n",
       "      <td>0.910</td>\n",
       "      <td>11</td>\n",
       "      <td>0.0727</td>\n",
       "      <td>-8.932</td>\n",
       "      <td>1</td>\n",
       "      <td>0.0697</td>\n",
       "      <td>124.031</td>\n",
       "      <td>4</td>\n",
       "      <td>0.944</td>\n",
       "      <td>0</td>\n",
       "    </tr>\n",
       "  </tbody>\n",
       "</table>\n",
       "</div>"
      ],
      "text/plain": [
       "  artist_name                track_id  \\\n",
       "0          YG  2RM4jf1Xa9zPgMGRDiht8O   \n",
       "1          YG  1tHDG53xJNGsItRA3vfVgs   \n",
       "2       R3HAB  6Wosx2euFPMT14UXiWudMy   \n",
       "3  Chris Cooq  3J2Jpw61sO7l6Hc7qdYV91   \n",
       "4  Chris Cooq  2jbYvQCyPgX3CdmAzeVeuS   \n",
       "5       Curbo  26Y1lX7ZOpw9Ql3gGAlqLK   \n",
       "6  Bingo Play  5eIyK73BrxHLnly4F9PWqg   \n",
       "7     G Herbo  13Mf2ZBpfNkgWJowvM5hXh   \n",
       "8     34 Feet  7BQaRTHk44DkMhIVNcXy2D   \n",
       "9  Chris Cooq  049RxG2laEl9U1PGYeIqLV   \n",
       "\n",
       "                                       track_name  acousticness  danceability  \\\n",
       "0  Big Bank feat. 2 Chainz, Big Sean, Nicki Minaj      0.005820         0.743   \n",
       "1                    BAND DRUM (feat. A$AP Rocky)      0.024400         0.846   \n",
       "2                                   Radio Silence      0.025000         0.603   \n",
       "3                                         Lactose      0.029400         0.800   \n",
       "4                             Same - Original mix      0.000035         0.783   \n",
       "5                       Debauchery - Original mix      0.001150         0.810   \n",
       "6                          Grandma - Original mix      0.000539         0.819   \n",
       "7                                     Bon appétit      0.115000         0.885   \n",
       "8                            Among - Original mix      0.000058         0.740   \n",
       "9                           Hazard - Original mix      0.000081         0.813   \n",
       "\n",
       "   duration_ms  energy  instrumentalness  key  liveness  loudness  mode  \\\n",
       "0       238373   0.339             0.000    1    0.0812    -7.678     1   \n",
       "1       214800   0.557             0.000    8    0.2860    -7.259     1   \n",
       "2       138913   0.723             0.000    9    0.0824    -5.890     0   \n",
       "3       125381   0.579             0.912    5    0.0994   -12.118     0   \n",
       "4       124016   0.792             0.878    7    0.0332   -10.277     1   \n",
       "5       124016   0.417             0.919    9    0.1060   -10.783     0   \n",
       "6       132742   0.720             0.863    4    0.0727    -8.895     0   \n",
       "7       181838   0.348             0.000    9    0.1070   -12.569     1   \n",
       "8       124016   0.472             0.847    8    0.0959    -9.008     1   \n",
       "9       132742   0.731             0.910   11    0.0727    -8.932     1   \n",
       "\n",
       "   speechiness    tempo  time_signature  valence  popularity  \n",
       "0       0.4090  203.927               4    0.118          15  \n",
       "1       0.4570  159.009               4    0.371           0  \n",
       "2       0.0454  114.966               4    0.382          56  \n",
       "3       0.0701  123.003               4    0.641           0  \n",
       "4       0.0661  120.047               4    0.928           0  \n",
       "5       0.0793  120.025               4    0.837           0  \n",
       "6       0.1510  124.003               4    0.934           0  \n",
       "7       0.4510  142.111               4    0.180           0  \n",
       "8       0.0551  120.034               4    0.622           0  \n",
       "9       0.0697  124.031               4    0.944           0  "
      ]
     },
     "execution_count": 3,
     "metadata": {},
     "output_type": "execute_result"
    }
   ],
   "source": [
    "df.head(10)"
   ]
  },
  {
   "cell_type": "code",
   "execution_count": 4,
   "id": "dc323a10-de45-45a4-9911-d7563dce494f",
   "metadata": {
    "tags": []
   },
   "outputs": [
    {
     "name": "stdout",
     "output_type": "stream",
     "text": [
      "<class 'pandas.core.frame.DataFrame'>\n",
      "RangeIndex: 130663 entries, 0 to 130662\n",
      "Data columns (total 17 columns):\n",
      " #   Column            Non-Null Count   Dtype  \n",
      "---  ------            --------------   -----  \n",
      " 0   artist_name       130663 non-null  object \n",
      " 1   track_id          130663 non-null  object \n",
      " 2   track_name        130663 non-null  object \n",
      " 3   acousticness      130663 non-null  float64\n",
      " 4   danceability      130663 non-null  float64\n",
      " 5   duration_ms       130663 non-null  int64  \n",
      " 6   energy            130663 non-null  float64\n",
      " 7   instrumentalness  130663 non-null  float64\n",
      " 8   key               130663 non-null  int64  \n",
      " 9   liveness          130663 non-null  float64\n",
      " 10  loudness          130663 non-null  float64\n",
      " 11  mode              130663 non-null  int64  \n",
      " 12  speechiness       130663 non-null  float64\n",
      " 13  tempo             130663 non-null  float64\n",
      " 14  time_signature    130663 non-null  int64  \n",
      " 15  valence           130663 non-null  float64\n",
      " 16  popularity        130663 non-null  int64  \n",
      "dtypes: float64(9), int64(5), object(3)\n",
      "memory usage: 16.9+ MB\n"
     ]
    }
   ],
   "source": [
    "df.info()"
   ]
  },
  {
   "cell_type": "code",
   "execution_count": 18,
   "id": "93e6b11d-a329-4e86-8ab9-0c270a5aa5c2",
   "metadata": {},
   "outputs": [
    {
     "name": "stderr",
     "output_type": "stream",
     "text": [
      "Summarize dataset: 100%|████████████████████████████████████████████████████████████| 170/170 [00:59<00:00,  2.86it/s, Completed]\n",
      "Generate report structure: 100%|███████████████████████████████████████████████████████████████████| 1/1 [00:15<00:00, 15.87s/it]\n",
      "Render HTML: 100%|█████████████████████████████████████████████████████████████████████████████████| 1/1 [00:08<00:00,  8.54s/it]\n",
      "Export report to file: 100%|███████████████████████████████████████████████████████████████████████| 1/1 [00:00<00:00, 19.08it/s]\n"
     ]
    }
   ],
   "source": [
    "profile = ProfileReport(df,title=\"Profile Report\")\n",
    "profile.to_file(\"report.html\")"
   ]
  },
  {
   "cell_type": "code",
   "execution_count": 12,
   "id": "8e9c4299-0856-4be4-a353-c7fdb78c36a6",
   "metadata": {
    "collapsed": true,
    "jupyter": {
     "outputs_hidden": true
    }
   },
   "outputs": [
    {
     "name": "stdout",
     "output_type": "stream",
     "text": [
      "artist_name         0.0\n",
      "track_id            0.0\n",
      "track_name          0.0\n",
      "acousticness        0.0\n",
      "danceability        0.0\n",
      "duration_ms         0.0\n",
      "energy              0.0\n",
      "instrumentalness    0.0\n",
      "key                 0.0\n",
      "liveness            0.0\n",
      "loudness            0.0\n",
      "mode                0.0\n",
      "speechiness         0.0\n",
      "tempo               0.0\n",
      "time_signature      0.0\n",
      "valence             0.0\n",
      "popularity          0.0\n",
      "dtype: float64\n"
     ]
    },
    {
     "data": {
      "text/html": [
       "<iframe\n",
       "    scrolling=\"no\"\n",
       "    width=\"100%\"\n",
       "    height=\"545px\"\n",
       "    src=\"iframe_figures/figure_12.html\"\n",
       "    frameborder=\"0\"\n",
       "    allowfullscreen\n",
       "></iframe>\n"
      ]
     },
     "metadata": {},
     "output_type": "display_data"
    }
   ],
   "source": [
    "import plotly.io as pio\n",
    "pio.renderers.default = 'iframe' # or 'colab' or 'iframe' or 'iframe_connected' or 'sphinx_gallery'\n",
    "\n",
    "# Calculate the percentage of NaN values in each column\n",
    "nan_percentages = df.isnull().sum() / len(df) * 100\n",
    "print(nan_percentages)\n",
    "nan_percentages = nan_percentages.reset_index()\n",
    "nan_percentages.columns = ['Column', 'Percentage']\n",
    "\n",
    "# Plot the percentage of NaN values\n",
    "fig = px.bar(nan_percentages, x='Column', y='Percentage', title='Percentage of NaN Values in Columns',\n",
    "             labels={'Column': 'Columns', 'Percentage': 'Percentage'})\n",
    "fig.update_layout(xaxis_tickangle=-45)\n",
    "fig.show()"
   ]
  },
  {
   "cell_type": "markdown",
   "id": "8f69bae6-87eb-4c92-96d3-3c8b802eb63e",
   "metadata": {
    "jp-MarkdownHeadingCollapsed": true,
    "tags": []
   },
   "source": [
    "## Baseline"
   ]
  },
  {
   "cell_type": "code",
   "execution_count": 14,
   "id": "9ca85444-1562-460b-a8a3-d7f33ad31356",
   "metadata": {
    "tags": []
   },
   "outputs": [],
   "source": [
    "from sklearn.model_selection import train_test_split\n",
    "\n",
    "features = df.drop(columns=[\"popularity\",\"artist_name\",\"track_id\",\"track_name\"]) # drop categorical var\n",
    "target = df['popularity']\n",
    "X = features\n",
    "y = target\n",
    "\n",
    "X_train, X_test, y_train, y_test = train_test_split(X, y, test_size=0.2, random_state=42)"
   ]
  },
  {
   "cell_type": "markdown",
   "id": "0a510449-4b8b-4d70-bea0-9c41bccfd931",
   "metadata": {
    "jp-MarkdownHeadingCollapsed": true,
    "tags": []
   },
   "source": [
    "### 1. linear regression"
   ]
  },
  {
   "cell_type": "code",
   "execution_count": 10,
   "id": "ab2786ab-f100-48d4-a1bc-681b4d03e992",
   "metadata": {
    "tags": []
   },
   "outputs": [
    {
     "name": "stdout",
     "output_type": "stream",
     "text": [
      "Mean Squared Error (MSE): 353.30\n",
      "Root Mean Squared Error (RMSE): 18.80\n",
      "R-squared (R²): 0.09\n"
     ]
    }
   ],
   "source": [
    "import pandas as pd\n",
    "from sklearn.model_selection import train_test_split\n",
    "from sklearn.linear_model import LinearRegression\n",
    "from sklearn.metrics import mean_squared_error, r2_score\n",
    "\n",
    "# Load the Spotify dataset into a pandas DataFrame\n",
    "df = pd.read_csv('SpotifySongPolularityAPIExtract.csv')\n",
    "\n",
    "# Initialize and train the baseline algorithm (Linear Regression)\n",
    "baseline_model = LinearRegression()\n",
    "baseline_model.fit(X_train, y_train)\n",
    "\n",
    "# Make predictions on the testing set\n",
    "y_pred = baseline_model.predict(X_test)\n",
    "\n",
    "# Evaluate the performance of the baseline algorithm\n",
    "mse = mean_squared_error(y_test, y_pred)\n",
    "rmse = mean_squared_error(y_test, y_pred, squared=False)\n",
    "r2 = r2_score(y_test, y_pred)\n",
    "\n",
    "print(f'Mean Squared Error (MSE): {mse:.2f}')\n",
    "print(f'Root Mean Squared Error (RMSE): {rmse:.2f}')\n",
    "print(f'R-squared (R²): {r2:.2f}')\n"
   ]
  },
  {
   "cell_type": "markdown",
   "id": "870039b4-4c48-4208-a19d-4728e0937971",
   "metadata": {
    "jp-MarkdownHeadingCollapsed": true,
    "tags": []
   },
   "source": [
    "### 2. dummyRegressor\n",
    "esc + m to change cell type to markdown or y to code"
   ]
  },
  {
   "cell_type": "code",
   "execution_count": 13,
   "id": "f00f270e-6929-4384-8d5e-84ce2ca1b641",
   "metadata": {
    "tags": []
   },
   "outputs": [
    {
     "name": "stdout",
     "output_type": "stream",
     "text": [
      "Mean Squared Error (MSE): 387.96\n",
      "Root Mean Squared Error (RMSE): 19.70\n",
      "R-squared (R²): -0.00\n"
     ]
    }
   ],
   "source": [
    "from sklearn.dummy import DummyRegressor\n",
    "from sklearn.metrics import mean_squared_error, r2_score\n",
    "import numpy as np\n",
    "\n",
    "# create a dummy regressor\n",
    "dummy_reg = DummyRegressor(strategy='mean')\n",
    "# fit it on the training set\n",
    "dummy_reg.fit(X_train, y_train)\n",
    "# make predictions on the test set\n",
    "y_pred = dummy_reg.predict(X_test)\n",
    "\n",
    "# Evaluate the performance of the algorithm\n",
    "mse = mean_squared_error(y_test, y_pred)\n",
    "rmse = mean_squared_error(y_test, y_pred, squared=False)\n",
    "r2 = r2_score(y_test, y_pred)\n",
    "\n",
    "print(f'Mean Squared Error (MSE): {mse:.2f}')\n",
    "print(f'Root Mean Squared Error (RMSE): {rmse:.2f}')\n",
    "print(f'R-squared (R²): {r2:.2f}')"
   ]
  },
  {
   "cell_type": "markdown",
   "id": "5c63e772-43fd-4c17-b6c2-3ec2ea534611",
   "metadata": {
    "tags": []
   },
   "source": [
    "## Models"
   ]
  },
  {
   "cell_type": "code",
   "execution_count": 16,
   "id": "9003dc97-7550-4fbd-a0b7-4495e1998a81",
   "metadata": {
    "tags": []
   },
   "outputs": [],
   "source": [
    "from sklearn.model_selection import train_test_split\n",
    "\n",
    "features = df.drop(columns=[\"popularity\",\"artist_name\",\"track_id\",\"track_name\"]) # drop categorical var\n",
    "target = df['popularity']\n",
    "X = features\n",
    "y = target\n",
    "\n",
    "X_train, X_test, y_train, y_test = train_test_split(X, y, test_size=0.2, random_state=42)\n",
    "\n",
    "def performance(y_test, y_pred):\n",
    "    # measure the performance\n",
    "    mse = mean_squared_error(y_test, y_pred)\n",
    "    rmse = mean_squared_error(y_test, y_pred, squared=False)\n",
    "    r2 = r2_score(y_test, y_pred)\n",
    "\n",
    "    print(f'Mean Squared Error (MSE): {mse:.2f}')\n",
    "    print(f'Root Mean Squared Error (RMSE): {rmse:.2f}')\n",
    "    print(f'R-squared (R²): {r2:.2f}')"
   ]
  },
  {
   "cell_type": "markdown",
   "id": "69f9338b-05d6-4d2c-bc56-4e87b162f3b3",
   "metadata": {
    "tags": []
   },
   "source": [
    "TODO: \n",
    "+ encoding categorical var\n",
    "+ feature importance (ex. Lasso Reg)\n",
    "+ polinomial regression\n",
    "+ pipeline\n",
    "+ optuna"
   ]
  },
  {
   "cell_type": "markdown",
   "id": "0679b9b2-6c66-46dd-b7df-306bb0a44af1",
   "metadata": {},
   "source": [
    "### KNN"
   ]
  },
  {
   "cell_type": "code",
   "execution_count": 18,
   "id": "f5323954-2cf3-4c4b-a676-31b0c9e9fade",
   "metadata": {
    "tags": []
   },
   "outputs": [
    {
     "name": "stdout",
     "output_type": "stream",
     "text": [
      "[Pipeline] .... (step 1 of 2) Processing standardscaler, total=   0.3s\n",
      "[Pipeline]  (step 2 of 2) Processing kneighborsregressor, total=   0.7s\n",
      "Mean Squared Error (MSE): 389.81\n",
      "Root Mean Squared Error (RMSE): 19.74\n",
      "R-squared (R²): -0.00\n"
     ]
    }
   ],
   "source": [
    "# libraries\n",
    "import numpy as np\n",
    "from sklearn.preprocessing import StandardScaler\n",
    "#from sklearn.dummy import DummyRegressor\n",
    "from sklearn.neighbors import KNeighborsRegressor\n",
    "from sklearn.pipeline import make_pipeline\n",
    "from sklearn.metrics import mean_squared_error, r2_score\n",
    "\n",
    "pipe = make_pipeline(\n",
    "    StandardScaler(), KNeighborsRegressor(), verbose=True\n",
    ")\n",
    "# apply all the transformation on the training set and train an knn model\n",
    "pipe.fit(X_train, y_train)\n",
    "# apply all the transformation on the test set and make predictions\n",
    "y_pred = pipe.predict(X_test)\n",
    "\n",
    "# measure the performance\n",
    "performance(y_test, y_pred)"
   ]
  },
  {
   "cell_type": "code",
   "execution_count": null,
   "id": "4c710867-1076-4bc7-b0ab-da9fd31c878c",
   "metadata": {},
   "outputs": [],
   "source": [
    "# libraries\n",
    "import numpy as np\n",
    "from sklearn.preprocessing import StandardScaler\n",
    "from sklearn.dummy import DummyRegressor\n",
    "#from sklearn.neighbors import KNeighborsRegressor\n",
    "from sklearn.pipeline import make_pipeline\n",
    "from sklearn.metrics import mean_squared_error, r2_score\n",
    "\n",
    "\n",
    "pipe = make_pipeline(\n",
    "    StandardScaler(), DummyRegressor()\n",
    ")\n",
    "# apply all the transformation on the training set and train an knn model\n",
    "pipe.fit(X_train, y_train)\n",
    "# apply all the transformation on the test set and make predictions\n",
    "y_pred = pipe.predict(X_test)\n",
    "\n",
    "# measure the performance\n",
    "performance(y_test, y_pred)"
   ]
  },
  {
   "cell_type": "code",
   "execution_count": 7,
   "id": "893d492b-014f-4663-b136-428f36e3d77d",
   "metadata": {
    "tags": []
   },
   "outputs": [
    {
     "name": "stdout",
     "output_type": "stream",
     "text": [
      "Linear Regression RMSE: 18.80112678017003\n"
     ]
    }
   ],
   "source": [
    "from sklearn.linear_model import LinearRegression\n",
    "\n",
    "# create a linear regression model\n",
    "lin_reg = LinearRegression()\n",
    "# fit on the training data\n",
    "lin_reg.fit(X_train, y_train)\n",
    "# make predictions on the test set\n",
    "y_pred = lin_reg.predict(X_test)\n",
    "\n",
    "# calculate root mean squared error\n",
    "mse = mean_squared_error(y_test, y_pred)\n",
    "lin_rmse = np.sqrt(mse)\n",
    "print(\"Linear Regression RMSE:\", lin_rmse)"
   ]
  },
  {
   "cell_type": "code",
   "execution_count": null,
   "id": "b209d165-1ce5-493e-8918-d1acd127b202",
   "metadata": {},
   "outputs": [],
   "source": []
  }
 ],
 "metadata": {
  "kernelspec": {
   "display_name": "Python 3 (ipykernel)",
   "language": "python",
   "name": "python3"
  },
  "language_info": {
   "codemirror_mode": {
    "name": "ipython",
    "version": 3
   },
   "file_extension": ".py",
   "mimetype": "text/x-python",
   "name": "python",
   "nbconvert_exporter": "python",
   "pygments_lexer": "ipython3",
   "version": "3.9.15"
  }
 },
 "nbformat": 4,
 "nbformat_minor": 5
}
